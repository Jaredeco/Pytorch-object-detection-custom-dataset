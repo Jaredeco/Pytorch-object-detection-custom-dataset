{
 "cells": [
  {
   "cell_type": "code",
   "execution_count": 1,
   "metadata": {},
   "outputs": [],
   "source": [
    "import torchvision\n",
    "import torch\n",
    "from PIL import Image\n",
    "import numpy as np\n",
    "import torchvision.transforms as T\n",
    "import cv2"
   ]
  },
  {
   "cell_type": "code",
   "execution_count": 2,
   "metadata": {},
   "outputs": [],
   "source": [
    "model = torch.load('fruit_det_mod.pth')\n",
    "model = model.eval()\n",
    "device = 'cuda:0'"
   ]
  },
  {
   "cell_type": "code",
   "execution_count": 3,
   "metadata": {},
   "outputs": [],
   "source": [
    "def get_prediction(img, threshold):\n",
    "    lab = {1:'apple', 2:'banana', 3:'orange'}\n",
    "#     img = Image.open(img_path) # Load the image\n",
    "    transform = T.Compose([T.ToTensor()]) # Defing PyTorch Transform\n",
    "    img = transform(img) # Apply the transform to the image\n",
    "    pred = model([img.to(device)]) # Pass the image to the model\n",
    "    pred_class = [lab[i] for i in list(pred[0]['labels'].cpu().numpy())] # Get the Prediction Score\n",
    "    pred_boxes = [[(i[0], i[1]), (i[2], i[3])] for i in list(pred[0]['boxes'].cpu().detach().numpy())] # Bounding boxes\n",
    "    pred_score = list(pred[0]['scores'].cpu().detach().numpy())\n",
    "    pred_t = [pred_score.index(x) for x in pred_score if x > threshold][-1] # Get list of index with score greater than threshold.\n",
    "    pred_boxes = pred_boxes[:pred_t+1]\n",
    "    pred_class = pred_class[:pred_t+1]\n",
    "    return pred_boxes, pred_class"
   ]
  },
  {
   "cell_type": "code",
   "execution_count": 4,
   "metadata": {},
   "outputs": [],
   "source": [
    "def detect_img(im, threshold=0.5, rect_th=3, text_size=1, text_th=2):\n",
    "    boxes, pred_cls = get_prediction(im, threshold) # Get predictions\n",
    "    img = cv2.cvtColor(im, cv2.COLOR_BGR2RGB) # Convert to RGB\n",
    "    for i in range(len(boxes)):\n",
    "        cv2.rectangle(img, boxes[i][0], boxes[i][1],color=(0, 255, 0), thickness=rect_th) # Draw Rectangle with the coordinates\n",
    "        cv2.putText(img,pred_cls[i], boxes[i][0],  cv2.FONT_HERSHEY_SIMPLEX, text_size, (0,255,0),thickness=text_th) # Write the prediction class\n",
    "    return img"
   ]
  },
  {
   "cell_type": "code",
   "execution_count": 9,
   "metadata": {},
   "outputs": [],
   "source": [
    "cap = cv2.VideoCapture(r'C:\\Users\\janor\\Downloads\\videoplayback.mp4')\n",
    "# cap = cv2.VideoCapture(0) #webcam\n",
    "i=0\n",
    "if cap.isOpened()== False:  \n",
    "    print(\"Error opening video  file\")\n",
    "k = 0\n",
    "while cap.isOpened(): \n",
    "    ret, frame = cap.read()\n",
    "    k += 1\n",
    "    if ret == True:\n",
    "        try:\n",
    "            if k % 100 == 0:\n",
    "                im = detect_img(frame, 0.8)\n",
    "                cv2.imshow('Frame', im)\n",
    "            else:\n",
    "                cv2.imshow('Frame', frame)\n",
    "        except IndexError:\n",
    "            cv2.imshow('Frame', frame)\n",
    "        if cv2.waitKey(25) & 0xFF == ord('q'): \n",
    "            break\n",
    "    else:  \n",
    "        break\n",
    "    \n",
    "cap.release()  \n",
    "cv2.destroyAllWindows()"
   ]
  },
  {
   "cell_type": "code",
   "execution_count": null,
   "metadata": {},
   "outputs": [],
   "source": []
  }
 ],
 "metadata": {
  "kernelspec": {
   "display_name": "Python 3",
   "language": "python",
   "name": "python3"
  },
  "language_info": {
   "codemirror_mode": {
    "name": "ipython",
    "version": 3
   },
   "file_extension": ".py",
   "mimetype": "text/x-python",
   "name": "python",
   "nbconvert_exporter": "python",
   "pygments_lexer": "ipython3",
   "version": "3.7.6"
  }
 },
 "nbformat": 4,
 "nbformat_minor": 4
}
